{
  "nbformat": 4,
  "nbformat_minor": 0,
  "metadata": {
    "colab": {
      "provenance": []
    },
    "kernelspec": {
      "name": "python3",
      "display_name": "Python 3"
    },
    "language_info": {
      "name": "python"
    }
  },
  "cells": [
    {
      "cell_type": "code",
      "execution_count": 2,
      "metadata": {
        "colab": {
          "base_uri": "https://localhost:8080/"
        },
        "id": "0ISbhv7_Rs_F",
        "outputId": "722d599d-7d30-4d6d-b713-6c6a9dea5878"
      },
      "outputs": [
        {
          "output_type": "stream",
          "name": "stdout",
          "text": [
            "Total Sales: $11770.00\n",
            "\n",
            "Month-wise Sales Totals:\n",
            "January: $1800.00\n",
            "February: $2040.00\n",
            "March: $1750.00\n",
            "April: $1330.00\n",
            "May: $2150.00\n",
            "June: $2700.00\n",
            "\n",
            "Most Popular Items (Quantity Sold):\n",
            "January: Chocolate Sundae (150 units)\n",
            "February: Chocolate Sundae (180 units)\n",
            "March: Chocolate Sundae (140 units)\n",
            "April: Strawberry (130 units)\n",
            "May: Mango (200 units)\n",
            "June: Chocolate Sundae (210 units)\n",
            "\n",
            "Items Generating Most Revenue:\n",
            "January: Chocolate Sundae ($1200.00)\n",
            "February: Chocolate Sundae ($1440.00)\n",
            "March: Chocolate Sundae ($1120.00)\n",
            "April: Strawberry ($780.00)\n",
            "May: Mango ($1400.00)\n",
            "June: Chocolate Sundae ($1680.00)\n",
            "\n",
            "Statistics for Most Popular Items:\n",
            "January: Min: 150, Max: 150, Avg: 150.00\n",
            "February: Min: 180, Max: 180, Avg: 180.00\n",
            "March: Min: 140, Max: 140, Avg: 140.00\n",
            "April: Min: 130, Max: 130, Avg: 130.00\n",
            "May: Min: 200, Max: 200, Avg: 200.00\n",
            "June: Min: 210, Max: 210, Avg: 210.00\n"
          ]
        }
      ],
      "source": [
        "import csv\n",
        "from collections import defaultdict\n",
        "\n",
        "def analyze_sales(file_path):\n",
        "    total_sales = 0\n",
        "    month_sales = defaultdict(float)\n",
        "    most_popular_items = defaultdict(lambda: (\"\", 0))\n",
        "    highest_revenue_items = defaultdict(lambda: (\"\", 0.0))\n",
        "    item_quantity_stats = defaultdict(lambda: defaultdict(list))\n",
        "\n",
        "    with open(file_path, mode='r') as file:\n",
        "        reader = csv.DictReader(file)\n",
        "        for row in reader:\n",
        "            month = row[\"Month\"]\n",
        "            item = row[\"Item\"]\n",
        "            quantity = int(row[\"Quantity\"])\n",
        "            price = float(row[\"Price\"])\n",
        "            revenue = quantity * price\n",
        "\n",
        "            total_sales += revenue\n",
        "\n",
        "            month_sales[month] += revenue\n",
        "\n",
        "            if quantity > most_popular_items[month][1]:\n",
        "                most_popular_items[month] = (item, quantity)\n",
        "\n",
        "            if revenue > highest_revenue_items[month][1]:\n",
        "                highest_revenue_items[month] = (item, revenue)\n",
        "\n",
        "            item_quantity_stats[month][item].append(quantity)\n",
        "\n",
        "    stats = {}\n",
        "    for month, (item, _) in most_popular_items.items():\n",
        "        quantities = item_quantity_stats[month][item]\n",
        "        stats[month] = {\n",
        "            \"min\": min(quantities),\n",
        "            \"max\": max(quantities),\n",
        "            \"avg\": sum(quantities) / len(quantities),\n",
        "        }\n",
        "\n",
        "\n",
        "    print(f\"Total Sales: ${total_sales:.2f}\")\n",
        "    print(\"\\nMonth-wise Sales Totals:\")\n",
        "    for month, sales in month_sales.items():\n",
        "        print(f\"{month}: ${sales:.2f}\")\n",
        "\n",
        "    print(\"\\nMost Popular Items (Quantity Sold):\")\n",
        "    for month, (item, quantity) in most_popular_items.items():\n",
        "        print(f\"{month}: {item} ({quantity} units)\")\n",
        "\n",
        "    print(\"\\nItems Generating Most Revenue:\")\n",
        "    for month, (item, revenue) in highest_revenue_items.items():\n",
        "        print(f\"{month}: {item} (${revenue:.2f})\")\n",
        "\n",
        "    print(\"\\nStatistics for Most Popular Items:\")\n",
        "    for month, stat in stats.items():\n",
        "        print(f\"{month}: Min: {stat['min']}, Max: {stat['max']}, Avg: {stat['avg']:.2f}\")\n",
        "\n",
        "\n",
        "file_path = \"/content/ice_cream_sales.csv\"\n",
        "analyze_sales(file_path)\n"
      ]
    }
  ]
}